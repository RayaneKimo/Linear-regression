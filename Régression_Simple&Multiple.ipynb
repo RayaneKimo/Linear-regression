{
 "cells": [
  {
   "cell_type": "markdown",
   "metadata": {
    "pycharm": {
     "name": "#%% md\n"
    }
   },
   "source": [
    "# Régression linéaire simple & Multiple\n"
   ]
  },
  {
   "cell_type": "markdown",
   "metadata": {
    "pycharm": {
     "name": "#%% md\n"
    }
   },
   "source": [
    "On commence par l'importation des packages nécessaires"
   ]
  },
  {
   "cell_type": "code",
   "execution_count": 1,
   "metadata": {
    "pycharm": {
     "name": "#%%\n"
    }
   },
   "outputs": [],
   "source": [
    "import numpy as np\n",
    "import pandas as pd\n",
    "import matplotlib.pyplot as plt\n",
    "import seaborn as sns\n",
    "from sklearn.datasets import make_regression\n",
    "from sklearn.linear_model import LinearRegression\n",
    "from sklearn.decomposition import PCA\n",
    "from sklearn.preprocessing import StandardScaler, OneHotEncoder\n",
    "from sklearn.model_selection import train_test_split, KFold, cross_val_score\n",
    "from sklearn.metrics import mean_squared_error, r2_score, make_scorer\n"
   ]
  },
  {
   "cell_type": "markdown",
   "metadata": {
    "pycharm": {
     "name": "#%% md\n"
    }
   },
   "source": [
    "### Partie 01: Régression simple\n"
   ]
  },
  {
   "cell_type": "markdown",
   "metadata": {
    "pycharm": {
     "name": "#%% md\n"
    }
   },
   "source": [
    "Nous voulons trouver la droite qui approxime au mieux le nuage de points suivants"
   ]
  },
  {
   "cell_type": "code",
   "execution_count": 2,
   "metadata": {
    "pycharm": {
     "name": "#%%\n"
    }
   },
   "outputs": [],
   "source": [
    "xs, ys = make_regression(n_samples=10, n_features=1, noise=3)     # Generate points cloud (10 points)\n",
    "xs = xs[:, 0]"
   ]
  },
  {
   "cell_type": "code",
   "execution_count": 3,
   "metadata": {
    "pycharm": {
     "name": "#%%\n"
    }
   },
   "outputs": [
    {
     "data": {
      "text/plain": [
       "<matplotlib.collections.PathCollection at 0x2a44bcb18b0>"
      ]
     },
     "execution_count": 3,
     "metadata": {},
     "output_type": "execute_result"
    },
    {
     "data": {
      "image/png": "[encoded data removed]",
      "text/plain": [
       "<Figure size 720x360 with 1 Axes>"
      ]
     },
     "metadata": {
      "needs_background": "light"
     },
     "output_type": "display_data"
    }
   ],
   "source": [
    "plt.figure(figsize=(10, 5))\n",
    "plt.scatter(xs, ys)       # Plot generated points"
   ]
  },
  {
   "cell_type": "markdown",
   "metadata": {
    "pycharm": {
     "name": "#%% md\n"
    }
   },
   "source": [
    "##### Méthode 01: Approche analytique (MCO)"
   ]
  },
  {
   "cell_type": "markdown",
   "metadata": {
    "pycharm": {
     "name": "#%% md\n"
    }
   },
   "source": [
    "Nous cherchons à estimer a et b tels que:\n",
    "$$ y = a.x + b $$\n",
    "$$ a = cov(x, y) / var(x) $$\n",
    "$$ b = \\bar{y} - a.\\bar{x} $$"
   ]
  },
  {
   "cell_type": "code",
   "execution_count": 4,
   "metadata": {
    "pycharm": {
     "name": "#%%\n"
    }
   },
   "outputs": [
    {
     "name": "stdout",
     "output_type": "stream",
     "text": [
      "a =  95.11373873866195\n",
      "b =  -0.2283820038268516\n"
     ]
    },
    {
     "data": {
      "text/plain": [
       "<matplotlib.collections.PathCollection at 0x2a44ddcfb50>"
      ]
     },
     "execution_count": 4,
     "metadata": {},
     "output_type": "execute_result"
    },
    {
     "data": {
      "image/png": "[encoded data removed]",
      "text/plain": [
       "<Figure size 720x360 with 1 Axes>"
      ]
     },
     "metadata": {
      "needs_background": "light"
     },
     "output_type": "display_data"
    }
   ],
   "source": [
    "a = np.cov(xs, ys, bias=True)[0, 1] / np.var(xs)\n",
    "b = ys.mean() - a * xs.mean()\n",
    " \n",
    "print(\"a = \", a)\n",
    "print(\"b = \", b)\n",
    "\n",
    "ys_hat = [a * x + b for x in xs]\n",
    "\n",
    "plt.figure(figsize=(10, 5))\n",
    "plt.plot(xs, ys_hat, c='red')\n",
    "plt.scatter(xs, ys)"
   ]
  },
  {
   "cell_type": "markdown",
   "metadata": {
    "pycharm": {
     "name": "#%% md\n"
    }
   },
   "source": [
    "##### Méthode 02: Descente de Gradient"
   ]
  },
  {
   "cell_type": "markdown",
   "metadata": {
    "pycharm": {
     "name": "#%% md\n"
    }
   },
   "source": [
    "Définissons d'abord les fonctions permettant d'effectuer une descente de gradient:"
   ]
  },
  {
   "cell_type": "code",
   "execution_count": 5,
   "metadata": {
    "pycharm": {
     "name": "#%%\n"
    }
   },
   "outputs": [],
   "source": [
    "# This function computes the partial difference quotient for the i-th(x[i]) variable of f\n",
    "def partial_difference_quotient(f, x, i, h=0.00001):\n",
    "    x = np.array(x)\n",
    "    x_new = np.array([x[j] + h if j == i else x[j] for j in range(len(x))])\n",
    "    return (f(x_new) - f(x)) / h\n",
    "\n",
    "\n",
    "# This function computes the gradient of f at a given point x\n",
    "def gradient(f, x, h=0.00001):\n",
    "    x = np.array(x)\n",
    "    return np.array([partial_difference_quotient(f, x, i, h) for i in range(len(x))])\n",
    "\n",
    "    \n",
    "def gradient_step(f, x, grad_fn = None, alpha=0.0001):\n",
    "    # If no standard gradient function is given for this function, compute it using gradient function (Computationnaly heavier)\n",
    "    if grad_fn is None:\n",
    "        grad_step = -1 * alpha * gradient(f, x)\n",
    "    else:\n",
    "        grad_step = -1 * alpha * grad_fn(x)\n",
    "    new_x = x + grad_step\n",
    "    return new_x\n",
    "\n",
    "    \n",
    "def gradient_descent(f, x, nb_steps=1000):\n",
    "    new_x = x\n",
    "    for i in range(nb_steps):\n",
    "        x = new_x\n",
    "        step_size = 0.01\n",
    "        new_x = gradient_step(f, x, alpha=step_size)\n",
    "    return new_x"
   ]
  },
  {
   "cell_type": "markdown",
   "metadata": {
    "pycharm": {
     "name": "#%% md\n"
    }
   },
   "source": [
    "Nous définissons maintenant la fonction squared error qui prend pour variables les coefficient de la droite, et nous effectuons une descente de gradient sur cette fonction pour trouver les bons coefficients, nous remarquent que les coefficients trouvés sont identiques à ceux de la méthode précédente."
   ]
  },
  {
   "cell_type": "code",
   "execution_count": 6,
   "metadata": {
    "pycharm": {
     "name": "#%%\n"
    }
   },
   "outputs": [
    {
     "name": "stdout",
     "output_type": "stream",
     "text": [
      "a =  95.11373287665991\n",
      "b =  -0.22838806502849704\n"
     ]
    },
    {
     "data": {
      "text/plain": [
       "<matplotlib.collections.PathCollection at 0x2a44de54190>"
      ]
     },
     "execution_count": 6,
     "metadata": {},
     "output_type": "execute_result"
    },
    {
     "data": {
      "image/png": "[encoded data removed]",
      "text/plain": [
       "<Figure size 720x360 with 1 Axes>"
      ]
     },
     "metadata": {
      "needs_background": "light"
     },
     "output_type": "display_data"
    }
   ],
   "source": [
    "# Function to minimize (squared error)\n",
    "def squared_error(beta):\n",
    "    return np.sum( [ ( y_i - ( beta[0] * x_i + beta[1] ) ) ** 2 for x_i, y_i in zip(xs, ys) ] )\n",
    "\n",
    "\n",
    "a, b = np.random.rand(2) * 100\n",
    "a, b = gradient_descent(squared_error, [a, b], nb_steps=10000)\n",
    "\n",
    "print(\"a = \", a)\n",
    "print(\"b = \", b)\n",
    "\n",
    "ys_hat = [a * x + b for x in xs]\n",
    "\n",
    "plt.figure(figsize=(10, 5))\n",
    "plt.plot(xs, ys_hat, c='red')\n",
    "plt.scatter(xs, ys)"
   ]
  },
  {
   "cell_type": "markdown",
   "metadata": {
    "pycharm": {
     "name": "#%% md\n"
    }
   },
   "source": [
    "Nous effectuons une dernière vérification avec la fonction de régression linéaire définie sur scikit learn et nous remarquons que les coefficients sont identiques aussi:"
   ]
  },
  {
   "cell_type": "code",
   "execution_count": 7,
   "metadata": {
    "pycharm": {
     "name": "#%%\n"
    }
   },
   "outputs": [
    {
     "name": "stdout",
     "output_type": "stream",
     "text": [
      "a =  95.11373873866191\n",
      "b =  -0.2283820038268587\n"
     ]
    }
   ],
   "source": [
    "reg = LinearRegression()\n",
    "reg.fit(xs.reshape(-1, 1), ys)\n",
    "\n",
    "print(\"a = \", reg.coef_[0])\n",
    "print(\"b = \", reg.intercept_)"
   ]
  },
  {
   "cell_type": "markdown",
   "metadata": {
    "pycharm": {
     "name": "#%% md\n"
    }
   },
   "source": [
    "### Partie 02: Régression multiple"
   ]
  },
  {
   "cell_type": "code",
   "execution_count": 8,
   "metadata": {
    "pycharm": {
     "name": "#%%\n"
    }
   },
   "outputs": [],
   "source": [
    "# Génerer un nuages de points (10 points)\n",
    "xs, ys = make_regression(n_samples=10, n_features=4, noise=3)\n",
    "xs = np.c_[np.ones(len(xs)), xs]"
   ]
  },
  {
   "cell_type": "markdown",
   "metadata": {
    "pycharm": {
     "name": "#%% md\n"
    }
   },
   "source": [
    "##### Méthode 01: Approche analytique (MCO)"
   ]
  },
  {
   "cell_type": "code",
   "execution_count": 9,
   "metadata": {
    "pycharm": {
     "name": "#%%\n"
    }
   },
   "outputs": [
    {
     "name": "stdout",
     "output_type": "stream",
     "text": [
      "beta =  [ 1.41961149 71.00775502 79.18724125 78.01422147 22.51546013]\n"
     ]
    }
   ],
   "source": [
    "beta = np.linalg.inv(xs.T @ xs) @ xs.T @ ys\n",
    "print(\"beta = \", beta)"
   ]
  },
  {
   "cell_type": "markdown",
   "metadata": {
    "pycharm": {
     "name": "#%% md\n"
    }
   },
   "source": [
    "##### Méthode 02: Descente de Gradient"
   ]
  },
  {
   "cell_type": "code",
   "execution_count": 10,
   "metadata": {
    "pycharm": {
     "name": "#%%\n"
    }
   },
   "outputs": [],
   "source": [
    "def error(beta):\n",
    "    return (ys - xs @ beta).T @ (ys - xs @ beta)"
   ]
  },
  {
   "cell_type": "code",
   "execution_count": 11,
   "metadata": {
    "pycharm": {
     "name": "#%%\n"
    }
   },
   "outputs": [
    {
     "name": "stdout",
     "output_type": "stream",
     "text": [
      "beta =  [ 1.3961077  70.87924228 79.15489543 77.98820479 22.47705437]\n"
     ]
    }
   ],
   "source": [
    "beta = np.random.rand(len(xs[0])) * 100\n",
    "beta = gradient_descent(error, beta, nb_steps=1000)\n",
    "print(\"beta = \", beta)"
   ]
  },
  {
   "cell_type": "markdown",
   "metadata": {
    "pycharm": {
     "name": "#%% md\n"
    }
   },
   "source": [
    "Confirmation avec scikit:"
   ]
  },
  {
   "cell_type": "code",
   "execution_count": 12,
   "metadata": {
    "pycharm": {
     "name": "#%%\n"
    }
   },
   "outputs": [
    {
     "name": "stdout",
     "output_type": "stream",
     "text": [
      "beta =  [ 1.41961149 71.00775502 79.18724125 78.01422147 22.51546013]\n"
     ]
    }
   ],
   "source": [
    "reg = LinearRegression()\n",
    "reg.fit(xs, ys)\n",
    "\n",
    "beta = np.hstack([reg.intercept_, reg.coef_[1:]])\n",
    "\n",
    "print(\"beta = \", beta)"
   ]
  },
  {
   "cell_type": "markdown",
   "metadata": {
    "pycharm": {
     "name": "#%% md\n"
    }
   },
   "source": [
    "### Passage à la réalité"
   ]
  },
  {
   "cell_type": "code",
   "execution_count": 125,
   "metadata": {
    "pycharm": {
     "name": "#%%\n"
    }
   },
   "outputs": [
    {
     "data": {
      "text/html": [
       "<div>\n",
       "<style scoped>\n",
       "    .dataframe tbody tr th:only-of-type {\n",
       "        vertical-align: middle;\n",
       "    }\n",
       "\n",
       "    .dataframe tbody tr th {\n",
       "        vertical-align: top;\n",
       "    }\n",
       "\n",
       "    .dataframe thead th {\n",
       "        text-align: right;\n",
       "    }\n",
       "</style>\n",
       "<table border=\"1\" class=\"dataframe\">\n",
       "  <thead>\n",
       "    <tr style=\"text-align: right;\">\n",
       "      <th></th>\n",
       "      <th>PC_1</th>\n",
       "      <th>PC_2</th>\n",
       "      <th>PC_3</th>\n",
       "      <th>PC_4</th>\n",
       "      <th>PC_5</th>\n",
       "      <th>PC_6</th>\n",
       "      <th>PC_7</th>\n",
       "      <th>PC_8</th>\n",
       "      <th>PC_9</th>\n",
       "      <th>PC_10</th>\n",
       "      <th>...</th>\n",
       "      <th>fuelsystem_mpfi</th>\n",
       "      <th>fuelsystem_spdi</th>\n",
       "      <th>fuelsystem_spfi</th>\n",
       "      <th>company_country_france</th>\n",
       "      <th>company_country_germany</th>\n",
       "      <th>company_country_japan</th>\n",
       "      <th>company_country_other</th>\n",
       "      <th>company_country_sweden</th>\n",
       "      <th>company_country_usa</th>\n",
       "      <th>price</th>\n",
       "    </tr>\n",
       "  </thead>\n",
       "  <tbody>\n",
       "    <tr>\n",
       "      <th>0</th>\n",
       "      <td>-1.188991</td>\n",
       "      <td>2.557813</td>\n",
       "      <td>0.944100</td>\n",
       "      <td>0.487235</td>\n",
       "      <td>-0.895975</td>\n",
       "      <td>-2.126462</td>\n",
       "      <td>0.254183</td>\n",
       "      <td>0.037402</td>\n",
       "      <td>0.866759</td>\n",
       "      <td>-1.015897</td>\n",
       "      <td>...</td>\n",
       "      <td>1.0</td>\n",
       "      <td>0.0</td>\n",
       "      <td>0.0</td>\n",
       "      <td>0.0</td>\n",
       "      <td>0.0</td>\n",
       "      <td>0.0</td>\n",
       "      <td>1.0</td>\n",
       "      <td>0.0</td>\n",
       "      <td>0.0</td>\n",
       "      <td>13495.0</td>\n",
       "    </tr>\n",
       "    <tr>\n",
       "      <th>1</th>\n",
       "      <td>-1.188991</td>\n",
       "      <td>2.557813</td>\n",
       "      <td>0.944100</td>\n",
       "      <td>0.487235</td>\n",
       "      <td>-0.895975</td>\n",
       "      <td>-2.126462</td>\n",
       "      <td>0.254183</td>\n",
       "      <td>0.037402</td>\n",
       "      <td>0.866759</td>\n",
       "      <td>-1.015897</td>\n",
       "      <td>...</td>\n",
       "      <td>1.0</td>\n",
       "      <td>0.0</td>\n",
       "      <td>0.0</td>\n",
       "      <td>0.0</td>\n",
       "      <td>0.0</td>\n",
       "      <td>0.0</td>\n",
       "      <td>1.0</td>\n",
       "      <td>0.0</td>\n",
       "      <td>0.0</td>\n",
       "      <td>16500.0</td>\n",
       "    </tr>\n",
       "    <tr>\n",
       "      <th>2</th>\n",
       "      <td>0.381595</td>\n",
       "      <td>1.745192</td>\n",
       "      <td>0.859004</td>\n",
       "      <td>0.106874</td>\n",
       "      <td>2.128795</td>\n",
       "      <td>0.458073</td>\n",
       "      <td>1.038397</td>\n",
       "      <td>-0.179913</td>\n",
       "      <td>-1.346996</td>\n",
       "      <td>-0.643977</td>\n",
       "      <td>...</td>\n",
       "      <td>1.0</td>\n",
       "      <td>0.0</td>\n",
       "      <td>0.0</td>\n",
       "      <td>0.0</td>\n",
       "      <td>0.0</td>\n",
       "      <td>0.0</td>\n",
       "      <td>1.0</td>\n",
       "      <td>0.0</td>\n",
       "      <td>0.0</td>\n",
       "      <td>16500.0</td>\n",
       "    </tr>\n",
       "    <tr>\n",
       "      <th>3</th>\n",
       "      <td>-0.384611</td>\n",
       "      <td>0.201121</td>\n",
       "      <td>-0.522797</td>\n",
       "      <td>-0.592737</td>\n",
       "      <td>0.076045</td>\n",
       "      <td>0.762925</td>\n",
       "      <td>-0.091027</td>\n",
       "      <td>0.970511</td>\n",
       "      <td>0.058262</td>\n",
       "      <td>-0.934040</td>\n",
       "      <td>...</td>\n",
       "      <td>1.0</td>\n",
       "      <td>0.0</td>\n",
       "      <td>0.0</td>\n",
       "      <td>0.0</td>\n",
       "      <td>1.0</td>\n",
       "      <td>0.0</td>\n",
       "      <td>0.0</td>\n",
       "      <td>0.0</td>\n",
       "      <td>0.0</td>\n",
       "      <td>13950.0</td>\n",
       "    </tr>\n",
       "    <tr>\n",
       "      <th>4</th>\n",
       "      <td>1.086932</td>\n",
       "      <td>1.164683</td>\n",
       "      <td>-0.604279</td>\n",
       "      <td>-0.547080</td>\n",
       "      <td>0.417359</td>\n",
       "      <td>0.745913</td>\n",
       "      <td>0.184035</td>\n",
       "      <td>0.772124</td>\n",
       "      <td>-0.297433</td>\n",
       "      <td>-1.376087</td>\n",
       "      <td>...</td>\n",
       "      <td>1.0</td>\n",
       "      <td>0.0</td>\n",
       "      <td>0.0</td>\n",
       "      <td>0.0</td>\n",
       "      <td>1.0</td>\n",
       "      <td>0.0</td>\n",
       "      <td>0.0</td>\n",
       "      <td>0.0</td>\n",
       "      <td>0.0</td>\n",
       "      <td>17450.0</td>\n",
       "    </tr>\n",
       "  </tbody>\n",
       "</table>\n",
       "<p>5 rows × 40 columns</p>\n",
       "</div>"
      ],
      "text/plain": [
       "       PC_1      PC_2      PC_3      PC_4      PC_5      PC_6      PC_7  \\\n",
       "0 -1.188991  2.557813  0.944100  0.487235 -0.895975 -2.126462  0.254183   \n",
       "1 -1.188991  2.557813  0.944100  0.487235 -0.895975 -2.126462  0.254183   \n",
       "2  0.381595  1.745192  0.859004  0.106874  2.128795  0.458073  1.038397   \n",
       "3 -0.384611  0.201121 -0.522797 -0.592737  0.076045  0.762925 -0.091027   \n",
       "4  1.086932  1.164683 -0.604279 -0.547080  0.417359  0.745913  0.184035   \n",
       "\n",
       "       PC_8      PC_9     PC_10  ...  fuelsystem_mpfi  fuelsystem_spdi  \\\n",
       "0  0.037402  0.866759 -1.015897  ...              1.0              0.0   \n",
       "1  0.037402  0.866759 -1.015897  ...              1.0              0.0   \n",
       "2 -0.179913 -1.346996 -0.643977  ...              1.0              0.0   \n",
       "3  0.970511  0.058262 -0.934040  ...              1.0              0.0   \n",
       "4  0.772124 -0.297433 -1.376087  ...              1.0              0.0   \n",
       "\n",
       "   fuelsystem_spfi  company_country_france  company_country_germany  \\\n",
       "0              0.0                     0.0                      0.0   \n",
       "1              0.0                     0.0                      0.0   \n",
       "2              0.0                     0.0                      0.0   \n",
       "3              0.0                     0.0                      1.0   \n",
       "4              0.0                     0.0                      1.0   \n",
       "\n",
       "   company_country_japan  company_country_other  company_country_sweden  \\\n",
       "0                    0.0                    1.0                     0.0   \n",
       "1                    0.0                    1.0                     0.0   \n",
       "2                    0.0                    1.0                     0.0   \n",
       "3                    0.0                    0.0                     0.0   \n",
       "4                    0.0                    0.0                     0.0   \n",
       "\n",
       "   company_country_usa    price  \n",
       "0                  0.0  13495.0  \n",
       "1                  0.0  16500.0  \n",
       "2                  0.0  16500.0  \n",
       "3                  0.0  13950.0  \n",
       "4                  0.0  17450.0  \n",
       "\n",
       "[5 rows x 40 columns]"
      ]
     },
     "execution_count": 125,
     "metadata": {},
     "output_type": "execute_result"
    }
   ],
   "source": [
    "# Read the dataset\n",
    "df = pd.read_csv(\"car prices\\carprices.csv\", sep=r',', skipinitialspace=True)\n",
    "\n",
    "# These are categorical variables\n",
    "# df[\"symboling\"] = df[\"symboling\"].astype(\"str\")\n",
    "df[\"car_ID\"] = df[\"car_ID\"].astype(\"str\")\n",
    "\n",
    "# Only keep the company name, as the model names may make it too complicated, also correct typos\n",
    "df[\"company_name\"] = df[\"CarName\"].apply(lambda x: x.split()[0].lower())\n",
    "df[\"company_name\"] = df[\"company_name\"].apply(lambda x:\n",
    "                                              \"volkswagen\" if x in [\"volkswagen\", \"vokswagen\", \"vw\"]\n",
    "                                              else \"porsche\" if x in [\"porcshce\", \"porsche\"]\n",
    "                                              else \"mazda\" if x in [\"mazda\", \"maxda\"]\n",
    "                                              else \"toyota\" if x in [\"toyota\", \"toyouta\"]\n",
    "                                              else \"ford\" if x in [\"mercury\"]\n",
    "                                              else x)\n",
    "\n",
    "# Now extract country name of each brand in order to reduce cardinality\n",
    "df[\"company_country\"] = df[\"company_name\"].apply(lambda x:\n",
    "                                                 \"germany\" if x in ['audi', 'bmw', 'porsche', 'volkswagen']\n",
    "                                                 else \"usa\" if x in ['chevrolet', 'dodge', 'buick', 'ford', 'plymouth']\n",
    "                                                 else \"japan\" if x in ['honda', 'isuzu', 'mazda', 'mitsubishi', 'nissan', 'subaru', 'toyota']\n",
    "                                                 else \"france\" if x in ['peugeot', 'renault']\n",
    "                                                 else \"sweden\" if x in ['volvo', 'saab']\n",
    "                                                #  else \"uk\" if x in ['jaguar']\n",
    "                                                #  else \"italy\" if x in ['alfa-romero']\n",
    "                                                 else \"other\")\n",
    "\n",
    "# Change the categorical variables that can be numbers\n",
    "df[\"doornumber\"] = df[\"doornumber\"].apply(lambda x:\n",
    "                                          2 if x == 'two' else 4 if x == 'four' else x)\n",
    "\n",
    "df['cylindernumber'] = df['cylindernumber'].apply(lambda x:\n",
    "                                                  2 if x == 'two' \n",
    "                                                  else 3 if x == 'three'\n",
    "                                                  else 4 if x == 'four' \n",
    "                                                  else 5 if x == 'five' \n",
    "                                                  else 6 if x == 'six' \n",
    "                                                  else 8 if x == 'eight'\n",
    "                                                  else 12 if x == 'twelve' \n",
    "                                                  else x)\n",
    "\n",
    "df['gas'] = df['fueltype'].apply(lambda x:\n",
    "                                 1 if x == 'gas' \n",
    "                                 else 0 if x == 'diesel' \n",
    "                                 else x)\n",
    "\n",
    "df['engine_front'] = df['enginelocation'].apply(lambda x:\n",
    "                                                1 if x == 'front'\n",
    "                                                else 0 if x == 'rear'\n",
    "                                                else x)\n",
    "\n",
    "df['aspiration_standard'] = df['aspiration'].apply(lambda x:\n",
    "                                                1 if x == 'std'\n",
    "                                                else 0 if x == 'turbo'\n",
    "                                                else x)\n",
    "\n",
    "# Drop irrelevant columns\n",
    "df.drop([\"CarName\", \"car_ID\", \"fueltype\", \"aspiration\", \"company_name\",\n",
    "        \"enginelocation\"], axis=1, inplace=True)\n",
    "\n",
    "# Get the numerica, categorical, and target columns\n",
    "cols = df.columns\n",
    "cat_cols = [col for col in cols if df[col].dtype == \"object\"]\n",
    "num_cols = [col for col in cols if col not in cat_cols and col != \"price\"]\n",
    "target_col = 'price'\n",
    "\n",
    "# Drop categorical columns with too big cardinality\n",
    "card_th = 10\n",
    "cols_to_drop = [col for col in cat_cols if df[col].nunique() > card_th]\n",
    "df = df.drop(cols_to_drop, axis='columns', errors='ignore')\n",
    "\n",
    "# Renew column types\n",
    "cols = df.columns\n",
    "cat_cols = [col for col in cols if df[col].dtype == \"object\"]\n",
    "num_cols = [col for col in cols if col not in cat_cols and col != \"price\"]\n",
    "target_col = 'price'\n",
    "\n",
    "# Apply a standard scaler to the numerical data before doing a PCA (to rightly catch the variance along all the variables)\n",
    "scaler = StandardScaler()\n",
    "df[num_cols] = scaler.fit_transform(df[num_cols])\n",
    "\n",
    "# After investigation, we can conclude that around 7 principal components is enough to represent our numerical data\n",
    "nb_components_to_keep = 10\n",
    "pc_to_keep = ['PC_' + str(i+1) for i in range(nb_components_to_keep)]\n",
    "pca = PCA(n_components=nb_components_to_keep)\n",
    "df[pc_to_keep] = pca.fit_transform(df[num_cols])\n",
    "\n",
    "# We apply a One Hot Encoding to the categorical variables\n",
    "ohe = OneHotEncoder(handle_unknown=\"ignore\", sparse=False)\n",
    "ohe.fit(df[cat_cols])\n",
    "ohe_cols = list(ohe.get_feature_names_out())\n",
    "df[ohe_cols] = ohe.transform(df[cat_cols])\n",
    "\n",
    "# We can now get rid of the numerical columns as we represent them with the principal components\n",
    "df.drop(num_cols, axis='columns', inplace=True)\n",
    "# We can also get rid of the categorical columns as we represent them with the one hot encoded columns\n",
    "df.drop(cat_cols, axis='columns', inplace=True)\n",
    "\n",
    "# Renew column types\n",
    "cols = df.columns\n",
    "cat_cols = [col for col in cols if df[col].dtype == \"object\"]\n",
    "num_cols = [col for col in cols if col not in cat_cols and col != \"price\"]\n",
    "target_col = 'price'\n",
    "\n",
    "# Reorder the columns for a better view\n",
    "df = df[num_cols + cat_cols + [target_col]]\n",
    "\n",
    "df.head()"
   ]
  },
  {
   "cell_type": "code",
   "execution_count": 157,
   "metadata": {
    "pycharm": {
     "name": "#%%\n"
    }
   },
   "outputs": [
    {
     "name": "stdout",
     "output_type": "stream",
     "text": [
      "r2 = 0.8775722387124794\n",
      "\n",
      "Sample pred/real:\n",
      "-----------------\n",
      "Preds:\t    8965.0     4933.0    13540.0     5292.0    15249.0     5591.0     4318.0    30602.0    17242.0    17307.0     5459.0    37685.0\n",
      "Real:\t    9279.0     6918.0    16430.0     6695.0    12964.0     6338.0     6488.0    36880.0    18950.0    15985.0     7898.0    37028.0\n",
      "Diff:\t    -314.0    -1985.0    -2890.0    -1403.0     2285.0     -747.0    -2170.0    -6278.0    -1708.0     1322.0    -2439.0      657.0\n"
     ]
    }
   ],
   "source": [
    "X = df.drop(target_col, axis='columns')\n",
    "y = df[target_col]\n",
    "\n",
    "reg = LinearRegression()\n",
    "\n",
    "X_train, X_valid, y_train, y_valid = train_test_split(\n",
    "    X, y, train_size=0.8, test_size=0.2\n",
    ")\n",
    "\n",
    "reg.fit(X_train, y_train)\n",
    "\n",
    "preds = reg.predict(X_valid)\n",
    "\n",
    "error = r2_score(preds, y_valid)\n",
    "\n",
    "print('r2 =', error)\n",
    "\n",
    "print(\"\")\n",
    "print(\"Sample pred/real:\")\n",
    "print(\"-----------------\")\n",
    "\n",
    "titles = [\"Preds\", \"Real\", \"Diff\"]\n",
    "\n",
    "# Draw a sample to view the difference\n",
    "sample_size = 8\n",
    "sample_start = np.random.randint(0, len(preds) - sample_size)\n",
    "sample_end = sample_start + sample_size\n",
    "\n",
    "table_data = [np.round(preds[sample_start:sample_end]), np.round(y_valid[sample_start:sample_end]), \n",
    "              np.round(preds[sample_start:sample_end] - y_valid[sample_start:sample_end])]\n",
    "\n",
    "for title, row in zip(titles, table_data):\n",
    "    print(title + \":\\t\", end=\"\")\n",
    "    print(\" \".join([\"{: >10}\" for _ in range(len(row))]).format(*row))\n",
    "\n"
   ]
  }
 ],
 "metadata": {
  "kernelspec": {
   "display_name": "Python 3",
   "language": "python",
   "name": "python3"
  },
  "language_info": {
   "codemirror_mode": {
    "name": "ipython",
    "version": 3
   },
   "file_extension": ".py",
   "mimetype": "text/x-python",
   "name": "python",
   "nbconvert_exporter": "python",
   "pygments_lexer": "ipython3",
   "version": "3.9.2"
  }
 },
 "nbformat": 4,
 "nbformat_minor": 2
}